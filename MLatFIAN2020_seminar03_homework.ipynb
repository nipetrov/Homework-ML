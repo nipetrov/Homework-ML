{
  "nbformat": 4,
  "nbformat_minor": 0,
  "metadata": {
    "colab": {
      "name": "MLatFIAN2020-seminar03-homework.ipynb",
      "provenance": [],
      "toc_visible": true,
      "include_colab_link": true
    },
    "kernelspec": {
      "name": "python3",
      "display_name": "Python 3"
    }
  },
  "cells": [
    {
      "cell_type": "markdown",
      "metadata": {
        "id": "view-in-github",
        "colab_type": "text"
      },
      "source": [
        "<a href=\"https://colab.research.google.com/github/nipetrov/Homework-ML/blob/master/MLatFIAN2020_seminar03_homework.ipynb\" target=\"_parent\"><img src=\"https://colab.research.google.com/assets/colab-badge.svg\" alt=\"Open In Colab\"/></a>"
      ]
    },
    {
      "cell_type": "markdown",
      "metadata": {
        "id": "VyNyFPNLVxuA"
      },
      "source": [
        "# Boston housing dataset"
      ]
    },
    {
      "cell_type": "markdown",
      "metadata": {
        "id": "UAiD9r1mV5ka"
      },
      "source": [
        "Use the data and model from the seminar:"
      ]
    },
    {
      "cell_type": "code",
      "metadata": {
        "id": "gIxJDCLGXJ6W"
      },
      "source": [
        "import matplotlib.pyplot as plt\n",
        "from sklearn.datasets import load_boston\n",
        "import pandas as pd\n",
        "import numpy as np\n",
        "\n",
        "from sklearn.linear_model import Ridge\n",
        "from sklearn.pipeline import make_pipeline\n",
        "from sklearn.preprocessing import PolynomialFeatures\n",
        "from sklearn.metrics import mean_squared_error\n",
        "from sklearn.model_selection import train_test_split"
      ],
      "execution_count": null,
      "outputs": []
    },
    {
      "cell_type": "code",
      "metadata": {
        "id": "20pkSnXwX5fW"
      },
      "source": [
        "columns = [\"CRIM\", \"RM\", \"LSTAT\"]\n",
        "\n",
        "data = load_boston()\n",
        "X = pd.DataFrame(data.data, columns=data.feature_names)[columns]\n",
        "X /= X.max()\n",
        "y = data.target"
      ],
      "execution_count": null,
      "outputs": []
    },
    {
      "cell_type": "code",
      "metadata": {
        "id": "O1yoR0D2fZcM",
        "outputId": "f0073b11-57f2-442c-be3a-8dc5eb03ce9b",
        "colab": {
          "base_uri": "https://localhost:8080/",
          "height": 52
        }
      },
      "source": [
        "X_train, X_test, y_train, y_test = train_test_split(X, y, test_size=50, random_state=42)\n",
        "\n",
        "model = make_pipeline(\n",
        "    PolynomialFeatures(9, include_bias=False),\n",
        "    Ridge(alpha=0.1)\n",
        ")\n",
        "\n",
        "model.fit(X_train, y_train)\n",
        "\n",
        "print('train mse = ', mean_squared_error(y_train, model.predict(X_train)))\n",
        "print('test mse = ', mean_squared_error(y_test, model.predict(X_test)))"
      ],
      "execution_count": null,
      "outputs": [
        {
          "output_type": "stream",
          "text": [
            "train mse =  19.312028078112938\n",
            "test mse =  8.517501881762888\n"
          ],
          "name": "stdout"
        }
      ]
    },
    {
      "cell_type": "markdown",
      "metadata": {
        "id": "ercMxDDhkddQ"
      },
      "source": [
        "# Task 1"
      ]
    },
    {
      "cell_type": "markdown",
      "metadata": {
        "id": "S1PKO5ebkjsM"
      },
      "source": [
        "Use `sklearn.model_selection.cross_validate` to perform K-fold cross-validation of the model above. Plot histograms of train and test scores (`\"neg_mean_squared_error\"`) on the same plot.\n",
        "\n",
        "Do that for 10 and 100 folds.\n",
        "\n",
        "See the docs for more details about the function: https://scikit-learn.org/stable/modules/generated/sklearn.model_selection.cross_validate.html"
      ]
    },
    {
      "cell_type": "code",
      "metadata": {
        "id": "8mPbo3d8gG-w"
      },
      "source": [
        "from sklearn.model_selection import cross_validate"
      ],
      "execution_count": null,
      "outputs": []
    },
    {
      "cell_type": "code",
      "metadata": {
        "id": "uRjHKo-MkxJX",
        "outputId": "38b7abe1-26cd-4279-b38a-e8220a5d6b8f",
        "colab": {
          "base_uri": "https://localhost:8080/",
          "height": 265
        }
      },
      "source": [
        " scores = cross_validate(model, X_train, y_train, scoring='neg_mean_squared_error', cv=10, return_train_score=True)\n",
        " bins = np.linspace(0, 50, 100)\n",
        " plt.hist(-scores['train_score'], bins, label = 'train', alpha = 0.5)\n",
        " plt.hist(-scores['test_score'], bins, label = 'test', alpha = 0.5, color= 'green');\n",
        " plt.legend(loc='upper right')\n",
        " plt.show()\n",
        " #scores['test_score']"
      ],
      "execution_count": null,
      "outputs": [
        {
          "output_type": "display_data",
          "data": {
            "image/png": "[encoded data removed]",
            "text/plain": [
              "<Figure size 432x288 with 1 Axes>"
            ]
          },
          "metadata": {
            "tags": [],
            "needs_background": "light"
          }
        }
      ]
    },
    {
      "cell_type": "code",
      "metadata": {
        "id": "R1yEoWuc70Cq",
        "outputId": "f4d14f9f-8218-4eca-a6cd-87ed1d6950e3",
        "colab": {
          "base_uri": "https://localhost:8080/",
          "height": 267
        }
      },
      "source": [
        " scores = cross_validate(model, X_train, y_train, scoring='neg_mean_squared_error', cv=100, return_train_score=True)\n",
        " bins = np.linspace(0, 50, 100)\n",
        " bins2 = np.linspace(0, 50, 250)\n",
        " plt.hist(-scores['train_score'], bins2, label = 'train', alpha = 0.5)\n",
        " plt.hist(-scores['test_score'], bins, label = 'test', alpha = 0.5, color= 'green');\n",
        " plt.legend(loc='upper right')\n",
        " plt.show()"
      ],
      "execution_count": null,
      "outputs": [
        {
          "output_type": "display_data",
          "data": {
            "image/png": "[encoded data removed]",
            "text/plain": [
              "<Figure size 432x288 with 1 Axes>"
            ]
          },
          "metadata": {
            "tags": [],
            "needs_background": "light"
          }
        }
      ]
    }
  ]
}